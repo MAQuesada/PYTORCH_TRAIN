{
 "cells": [
  {
   "cell_type": "markdown",
   "metadata": {},
   "source": [
    "# **Training a model to predict the next word in a sequence using the nn.Transformer module.**"
   ]
  },
  {
   "cell_type": "markdown",
   "metadata": {},
   "source": [
    "## Define the model\n",
    "\n",
    "We can only use the Encoder "
   ]
  },
  {
   "cell_type": "code",
   "execution_count": 2,
   "metadata": {},
   "outputs": [],
   "source": [
    "import math\n",
    "import torch\n",
    "from torch import nn, Tensor\n",
    "\n",
    "device = torch.device(\"cuda\" if torch.cuda.is_available() else \"cpu\")\n",
    "\n",
    "\n",
    "class PositionalEncoding(nn.Module):\n",
    "\n",
    "    def __init__(self, embedd_dim: int, dropout: float = 0.1, max_len: int = 5000):\n",
    "        super().__init__()\n",
    "        self.dropout = nn.Dropout(p=dropout)\n",
    "\n",
    "        position = torch.arange(max_len).unsqueeze(1)\n",
    "        div_term = torch.exp(torch.arange(0, embedd_dim, 2) * (-math.log(10000.0) / embedd_dim))\n",
    "        pe = torch.zeros(max_len, 1, embedd_dim)\n",
    "        pe[:, 0, 0::2] = torch.sin(position * div_term)\n",
    "        pe[:, 0, 1::2] = torch.cos(position * div_term)\n",
    "        self.register_buffer('pe', pe) # no-trainable parameter\n",
    "\n",
    "    def forward(self, x: Tensor) -> Tensor:\n",
    "        \"\"\"\n",
    "        Arguments:\n",
    "            x: Tensor, shape ``[seq_len, batch_size, embedding_dim]``\n",
    "        \"\"\"\n",
    "        x = x + self.pe[:x.size(0)]\n",
    "        return self.dropout(x)"
   ]
  },
  {
   "cell_type": "code",
   "execution_count": 3,
   "metadata": {},
   "outputs": [],
   "source": [
    "\n",
    "\n",
    "from torch.nn import TransformerEncoder, TransformerEncoderLayer\n",
    "\n",
    "class TransformerModel(nn.Module):\n",
    "\n",
    "    def __init__(self, ntoken: int, embedd_dim: int, nhead: int, dim_feedforward: int,\n",
    "                 nlayers: int, dropout: float = 0.5):\n",
    "        super().__init__()\n",
    "        self.model_type = 'Transformer'\n",
    "        self.pos_encoder = PositionalEncoding(embedd_dim, dropout)\n",
    "        encoder_layers = TransformerEncoderLayer(embedd_dim, nhead, dim_feedforward, dropout)\n",
    "        self.transformer_encoder = TransformerEncoder(encoder_layers, nlayers)\n",
    "        self.embedding = nn.Embedding(ntoken, embedd_dim)\n",
    "        self.embedd_dim = embedd_dim\n",
    "        self.linear = nn.Linear(embedd_dim, ntoken)\n",
    "\n",
    "        self.init_weights()\n",
    "\n",
    "    def init_weights(self) -> None:\n",
    "        initrange = 0.1\n",
    "        self.embedding.weight.data.uniform_(-initrange, initrange)\n",
    "        self.linear.bias.data.zero_()\n",
    "        self.linear.weight.data.uniform_(-initrange, initrange)\n",
    "\n",
    "    def forward(self, src: Tensor, src_mask: Tensor = None) -> Tensor:\n",
    "        \"\"\"\n",
    "        Arguments:\n",
    "            src: Tensor, shape ``[seq_len, batch_size]``\n",
    "            src_mask: Tensor, shape ``[seq_len, seq_len]``\n",
    "\n",
    "        Returns:\n",
    "            output Tensor of shape ``[seq_len, batch_size, ntoken]``\n",
    "        \"\"\"\n",
    "        src = self.embedding(src) * math.sqrt(self.embedd_dim)\n",
    "        src = self.pos_encoder(src)\n",
    "        if src_mask is None:\n",
    "            \"\"\"Generate a square causal mask for the sequence. The masked positions are filled with float('-inf').\n",
    "            Unmasked positions are filled with float(0.0).\n",
    "            \"\"\"\n",
    "            src_mask = nn.Transformer.generate_square_subsequent_mask(len(src)).to(device)\n",
    "        output = self.transformer_encoder(src, src_mask)\n",
    "        output = self.linear(output)\n",
    "        return output"
   ]
  },
  {
   "cell_type": "markdown",
   "metadata": {},
   "source": [
    "## Load and batch data\n",
    "Using torchtext to generate Wikitext-2 dataset. To access torchtext datasets, please install torchdata following instructions at https://github.com/pytorch/data. %%\n",
    "\n",
    "The vocab object is built based on the train dataset and is used to numericalize tokens into tensors. Wikitext-2 represents rare tokens as $<unk>$\n",
    "\n",
    "Given a 1-D vector of sequential data, **batchify()** arranges the data into batch_size columns. If the data does not divide evenly into batch_size columns, then the data is trimmed to fit. For instance, with the alphabet as the data (total length of 26) and batch_size=4, we would divide the alphabet into sequences of length 6, resulting in 4 of such sequences.\n",
    "\n",
    "![alt](resources/Wikitext_batchify.PNG)\n",
    "\n",
    "Batching enables more parallelizable processing. However, batching means that the model treats each column independently; for example, the dependence of G and F can not be learned in the example above."
   ]
  },
  {
   "cell_type": "code",
   "execution_count": 5,
   "metadata": {},
   "outputs": [
    {
     "name": "stdout",
     "output_type": "stream",
     "text": [
      "Defaulting to user installation because normal site-packages is not writeable\n",
      "Collecting portalocker\n",
      "  Downloading portalocker-2.8.2-py3-none-any.whl.metadata (8.5 kB)\n",
      "Downloading portalocker-2.8.2-py3-none-any.whl (17 kB)\n",
      "Installing collected packages: portalocker\n",
      "Successfully installed portalocker-2.8.2\n",
      "Defaulting to user installation because normal site-packages is not writeable\n",
      "Collecting torchdata\n",
      "  Downloading torchdata-0.7.1-cp39-cp39-manylinux_2_17_x86_64.manylinux2014_x86_64.whl.metadata (13 kB)\n",
      "Requirement already satisfied: urllib3>=1.25 in /opt/tljh/user/lib/python3.9/site-packages (from torchdata) (2.1.0)\n",
      "Requirement already satisfied: requests in ./.local/lib/python3.9/site-packages (from torchdata) (2.31.0)\n",
      "Requirement already satisfied: torch>=2 in ./.local/lib/python3.9/site-packages (from torchdata) (2.1.2)\n",
      "Requirement already satisfied: filelock in ./.local/lib/python3.9/site-packages (from torch>=2->torchdata) (3.13.1)\n",
      "Requirement already satisfied: typing-extensions in ./.local/lib/python3.9/site-packages (from torch>=2->torchdata) (4.9.0)\n",
      "Requirement already satisfied: sympy in ./.local/lib/python3.9/site-packages (from torch>=2->torchdata) (1.12)\n",
      "Requirement already satisfied: networkx in ./.local/lib/python3.9/site-packages (from torch>=2->torchdata) (3.2.1)\n",
      "Requirement already satisfied: jinja2 in /opt/tljh/user/lib/python3.9/site-packages (from torch>=2->torchdata) (3.1.3)\n",
      "Requirement already satisfied: fsspec in ./.local/lib/python3.9/site-packages (from torch>=2->torchdata) (2023.12.2)\n",
      "Requirement already satisfied: nvidia-cuda-nvrtc-cu12==12.1.105 in ./.local/lib/python3.9/site-packages (from torch>=2->torchdata) (12.1.105)\n",
      "Requirement already satisfied: nvidia-cuda-runtime-cu12==12.1.105 in ./.local/lib/python3.9/site-packages (from torch>=2->torchdata) (12.1.105)\n",
      "Requirement already satisfied: nvidia-cuda-cupti-cu12==12.1.105 in ./.local/lib/python3.9/site-packages (from torch>=2->torchdata) (12.1.105)\n",
      "Requirement already satisfied: nvidia-cudnn-cu12==8.9.2.26 in ./.local/lib/python3.9/site-packages (from torch>=2->torchdata) (8.9.2.26)\n",
      "Requirement already satisfied: nvidia-cublas-cu12==12.1.3.1 in ./.local/lib/python3.9/site-packages (from torch>=2->torchdata) (12.1.3.1)\n",
      "Requirement already satisfied: nvidia-cufft-cu12==11.0.2.54 in ./.local/lib/python3.9/site-packages (from torch>=2->torchdata) (11.0.2.54)\n",
      "Requirement already satisfied: nvidia-curand-cu12==10.3.2.106 in ./.local/lib/python3.9/site-packages (from torch>=2->torchdata) (10.3.2.106)\n",
      "Requirement already satisfied: nvidia-cusolver-cu12==11.4.5.107 in ./.local/lib/python3.9/site-packages (from torch>=2->torchdata) (11.4.5.107)\n",
      "Requirement already satisfied: nvidia-cusparse-cu12==12.1.0.106 in ./.local/lib/python3.9/site-packages (from torch>=2->torchdata) (12.1.0.106)\n",
      "Requirement already satisfied: nvidia-nccl-cu12==2.18.1 in ./.local/lib/python3.9/site-packages (from torch>=2->torchdata) (2.18.1)\n",
      "Requirement already satisfied: nvidia-nvtx-cu12==12.1.105 in ./.local/lib/python3.9/site-packages (from torch>=2->torchdata) (12.1.105)\n",
      "Requirement already satisfied: triton==2.1.0 in ./.local/lib/python3.9/site-packages (from torch>=2->torchdata) (2.1.0)\n",
      "Requirement already satisfied: nvidia-nvjitlink-cu12 in ./.local/lib/python3.9/site-packages (from nvidia-cusolver-cu12==11.4.5.107->torch>=2->torchdata) (12.2.140)\n",
      "Requirement already satisfied: charset-normalizer<4,>=2 in /opt/tljh/user/lib/python3.9/site-packages (from requests->torchdata) (3.3.2)\n",
      "Requirement already satisfied: idna<4,>=2.5 in /opt/tljh/user/lib/python3.9/site-packages (from requests->torchdata) (3.6)\n",
      "Requirement already satisfied: certifi>=2017.4.17 in /opt/tljh/user/lib/python3.9/site-packages (from requests->torchdata) (2023.11.17)\n",
      "Requirement already satisfied: MarkupSafe>=2.0 in /opt/tljh/user/lib/python3.9/site-packages (from jinja2->torch>=2->torchdata) (2.1.3)\n",
      "Requirement already satisfied: mpmath>=0.19 in ./.local/lib/python3.9/site-packages (from sympy->torch>=2->torchdata) (1.3.0)\n",
      "Downloading torchdata-0.7.1-cp39-cp39-manylinux_2_17_x86_64.manylinux2014_x86_64.whl (4.7 MB)\n",
      "\u001b[2K   \u001b[90m━━━━━━━━━━━━━━━━━━━━━━━━━━━━━━━━━━━━━━━━\u001b[0m \u001b[32m4.7/4.7 MB\u001b[0m \u001b[31m20.6 MB/s\u001b[0m eta \u001b[36m0:00:00\u001b[0ma \u001b[36m0:00:01\u001b[0m\n",
      "\u001b[?25hInstalling collected packages: torchdata\n",
      "Successfully installed torchdata-0.7.1\n"
     ]
    }
   ],
   "source": [
    "%%bash\n",
    "pip install portalocker\n",
    "pip install torchdata"
   ]
  },
  {
   "cell_type": "code",
   "execution_count": 14,
   "metadata": {},
   "outputs": [
    {
     "data": {
      "text/plain": [
       "tensor([    9,  3849,  3869,   881,     9, 20000,    83,  3849,    88,     0])"
      ]
     },
     "execution_count": 14,
     "metadata": {},
     "output_type": "execute_result"
    }
   ],
   "source": [
    " from torch.utils.data import dataset\n",
    "from torchtext.datasets import WikiText2\n",
    "from torchtext.data.utils import get_tokenizer\n",
    "from torchtext.vocab import build_vocab_from_iterator\n",
    "\n",
    "\n",
    "train_iter = WikiText2(split='train')\n",
    "\n",
    "# tokenizador para dividir  el texto en palabras utilizando reglas básicas del inglés.\n",
    "tokenizer = get_tokenizer('basic_english') \n",
    "\n",
    "# aplica el tokenizador a cada elemento del iterador de entrenamiento. \n",
    "# specials=['<unk>'] añade un token especial <unk> para palabras desconocidas.\n",
    "vocab = build_vocab_from_iterator(map(tokenizer, train_iter), specials=['<unk>'])\n",
    "\n",
    "# si se encuentra una palabra que no está en el vocabulario,\n",
    "# se utilizará el índice de <unk> por defecto.\n",
    "vocab.set_default_index(vocab['<unk>'])\n",
    "\n",
    "def data_process(raw_text_iter: dataset.IterableDataset) -> Tensor:\n",
    "    \"\"\"Converts raw text into a flat Tensor.\"\"\"\n",
    "    \n",
    "    # convertir los tokens obtenidos del objeto *tokenizer** a un formato numérico \n",
    "    # utilizando un vocabulario predefinido **vocab** en este caso\n",
    "    data = [torch.tensor(vocab(tokenizer(item)), dtype=torch.long) for item in raw_text_iter]\n",
    "    \n",
    "    # concatena todos los tensores en la tupla para crear un único tensor plano (unidimensional)\n",
    "    return torch.cat(tuple(filter(lambda t: t.numel() > 0, data)))\n",
    "\n",
    "# ``train_iter`` was \"consumed\" by the process of building the vocab,\n",
    "# so we have to create it again\n",
    "train_iter, val_iter, test_iter = WikiText2()\n",
    "train_data = data_process(train_iter)\n",
    "val_data = data_process(val_iter)\n",
    "test_data = data_process(test_iter)\n",
    "\n",
    "train_data[0:10]\n"
   ]
  },
  {
   "cell_type": "code",
   "execution_count": 15,
   "metadata": {},
   "outputs": [],
   "source": [
    "\n",
    "def batchify(data: Tensor, bsz: int) -> Tensor:\n",
    "    \"\"\"Divides the data into ``bsz`` separate sequences, removing extra elements\n",
    "    that wouldn't cleanly fit.\n",
    "\n",
    "    Arguments:\n",
    "        data: Tensor, shape ``[N]``\n",
    "        bsz: int, batch size\n",
    "\n",
    "    Returns:\n",
    "        Tensor of shape ``[N // bsz, bsz]``\n",
    "    \"\"\"\n",
    "    seq_len = data.size(0) // bsz\n",
    "    data = data[:seq_len * bsz]\n",
    "    \n",
    "    # NOTE\" **t()** computes the transpose matrix of the tensor only if the\n",
    "    # tensor has two dimensions, otherwise it uses **transpose()**\n",
    "    data = data.view(bsz, seq_len).t().contiguous()\n",
    "    return data.to(device)\n",
    "\n",
    "\n",
    "batch_size = 20\n",
    "eval_batch_size = 10\n",
    "\n",
    "train_data = batchify(train_data, batch_size)  # shape ``[seq_len, batch_size]``\n",
    "val_data = batchify(val_data, eval_batch_size)\n",
    "test_data = batchify(test_data, eval_batch_size)"
   ]
  },
  {
   "cell_type": "markdown",
   "metadata": {},
   "source": [
    "**get_batch()** generates a pair of input-target sequences for the transformer model. It subdivides the source data into chunks of length chunk_len. For the language modeling task, the model needs the following words as Target. For example, with a chunk_len value of 2, we’d get the following two Variables for i = 0:\n",
    "![](resources/transformer_input_target.png)"
   ]
  },
  {
   "cell_type": "code",
   "execution_count": 25,
   "metadata": {},
   "outputs": [],
   "source": [
    "from typing import Tuple\n",
    "chunk_len: int = 35\n",
    "\n",
    "\n",
    "def get_batch(source: Tensor, i: int) -> Tuple[Tensor, Tensor]:\n",
    "    \"\"\"\n",
    "    Args:\n",
    "        source: Tensor, shape ``[full_seq_len, batch_size]``\n",
    "        i: int\n",
    "\n",
    "    Returns:\n",
    "        tuple (data, target), where data has shape ``[seq_len, batch_size]`` and\n",
    "        target has shape ``[seq_len * batch_size]``\n",
    "    \"\"\"\n",
    "    seq_len = min(chunk_len, len(source) - 1 - i)\n",
    "    data = source[i:i+seq_len]\n",
    "    target = source[i+1:i+1+seq_len].reshape(-1)\n",
    "    return data, target"
   ]
  },
  {
   "cell_type": "markdown",
   "metadata": {},
   "source": [
    "## Initiate an instance"
   ]
  },
  {
   "cell_type": "code",
   "execution_count": 24,
   "metadata": {},
   "outputs": [
    {
     "name": "stderr",
     "output_type": "stream",
     "text": [
      "/home/jupyter-manuel@datwit.com/.local/lib/python3.9/site-packages/torch/nn/modules/transformer.py:282: UserWarning: enable_nested_tensor is True, but self.use_nested_tensor is False because encoder_layer.self_attn.batch_first was not True(use batch_first for better inference performance)\n",
      "  warnings.warn(f\"enable_nested_tensor is True, but self.use_nested_tensor is False because {why_not_sparsity_fast_path}\")\n"
     ]
    }
   ],
   "source": [
    "ntokens = len(vocab)  # size of vocabulary\n",
    "embedd_dim = 200  # embedding dimension\n",
    "d_hid = 200  # dimension of the feedforward network model in ``nn.TransformerEncoder``\n",
    "nlayers = 2  # number of ``nn.TransformerEncoderLayer`` in ``nn.TransformerEncoder``\n",
    "nhead = 2  # number of heads in ``nn.MultiheadAttention``\n",
    "dropout = 0.2  # dropout probability\n",
    "model = TransformerModel(ntokens, embedd_dim, nhead, d_hid, nlayers, dropout).to(device)"
   ]
  },
  {
   "cell_type": "markdown",
   "metadata": {},
   "source": [
    "## Run the model"
   ]
  },
  {
   "cell_type": "code",
   "execution_count": 27,
   "metadata": {},
   "outputs": [],
   "source": [
    "import time\n",
    "\n",
    "criterion = nn.CrossEntropyLoss()\n",
    "lr = 5.0  # learning rate\n",
    "optimizer = torch.optim.SGD(model.parameters(), lr=lr)\n",
    "scheduler = torch.optim.lr_scheduler.StepLR(optimizer, 1.0, gamma=0.95)\n",
    "\n",
    "def train(model: nn.Module) -> None:\n",
    "    model.train()  # turn on train mode\n",
    "    total_loss = 0.\n",
    "    log_interval = 200\n",
    "    start_time = time.time()\n",
    "\n",
    "    num_batches = len(train_data) // chunk_len\n",
    "    for batch, i in enumerate(range(0, train_data.size(0) - 1, chunk_len)):\n",
    "        data, targets = get_batch(train_data, i)\n",
    "        output = model(data)\n",
    "        output_flat = output.view(-1, ntokens)\n",
    "        loss = criterion(output_flat, targets)\n",
    "\n",
    "        optimizer.zero_grad()\n",
    "        loss.backward()\n",
    "        \n",
    "        # we use nn.utils.clip_grad_norm_ to prevent gradients from exploding.\n",
    "        torch.nn.utils.clip_grad_norm_(model.parameters(), 0.5)\n",
    "        optimizer.step()\n",
    "\n",
    "        total_loss += loss.item()\n",
    "        if batch % log_interval == 0 and batch > 0:\n",
    "            lr = scheduler.get_last_lr()[0]\n",
    "            ms_per_batch = (time.time() - start_time) * 1000 / log_interval\n",
    "            cur_loss = total_loss / log_interval\n",
    "            ppl = math.exp(cur_loss)\n",
    "            print(f'| epoch {epoch:3d} | {batch:5d}/{num_batches:5d} batches | '\n",
    "                  f'lr {lr:02.2f} | ms/batch {ms_per_batch:5.2f} | '\n",
    "                  f'loss {cur_loss:5.2f} | ppl {ppl:8.2f}')\n",
    "            total_loss = 0\n",
    "            start_time = time.time()\n",
    "\n",
    "def evaluate(model: nn.Module, eval_data: Tensor) -> float:\n",
    "    model.eval()  # turn on evaluation mode\n",
    "    total_loss = 0.\n",
    "    with torch.no_grad():\n",
    "        for i in range(0, eval_data.size(0) - 1, chunk_len):\n",
    "            data, targets = get_batch(eval_data, i)\n",
    "            seq_len = data.size(0)\n",
    "            output = model(data)\n",
    "            output_flat = output.view(-1, ntokens)\n",
    "            total_loss += seq_len * criterion(output_flat, targets).item()\n",
    "    return total_loss / (len(eval_data) - 1)"
   ]
  },
  {
   "cell_type": "code",
   "execution_count": 28,
   "metadata": {},
   "outputs": [
    {
     "name": "stdout",
     "output_type": "stream",
     "text": [
      "| epoch   1 |   200/ 2928 batches | lr 5.00 | ms/batch 11.33 | loss  8.08 | ppl  3239.40\n",
      "| epoch   1 |   400/ 2928 batches | lr 5.00 | ms/batch  9.54 | loss  6.89 | ppl   981.22\n",
      "| epoch   1 |   600/ 2928 batches | lr 5.00 | ms/batch  9.45 | loss  6.45 | ppl   631.01\n",
      "| epoch   1 |   800/ 2928 batches | lr 5.00 | ms/batch  9.47 | loss  6.31 | ppl   548.59\n",
      "| epoch   1 |  1000/ 2928 batches | lr 5.00 | ms/batch  9.48 | loss  6.19 | ppl   486.62\n",
      "| epoch   1 |  1200/ 2928 batches | lr 5.00 | ms/batch  9.45 | loss  6.16 | ppl   474.97\n",
      "| epoch   1 |  1400/ 2928 batches | lr 5.00 | ms/batch  9.45 | loss  6.12 | ppl   455.83\n",
      "| epoch   1 |  1600/ 2928 batches | lr 5.00 | ms/batch  9.53 | loss  6.11 | ppl   449.83\n",
      "| epoch   1 |  1800/ 2928 batches | lr 5.00 | ms/batch  9.49 | loss  6.03 | ppl   417.49\n",
      "| epoch   1 |  2000/ 2928 batches | lr 5.00 | ms/batch  9.45 | loss  6.03 | ppl   416.92\n",
      "| epoch   1 |  2200/ 2928 batches | lr 5.00 | ms/batch  9.45 | loss  5.91 | ppl   367.30\n",
      "| epoch   1 |  2400/ 2928 batches | lr 5.00 | ms/batch  9.45 | loss  5.98 | ppl   393.49\n",
      "| epoch   1 |  2600/ 2928 batches | lr 5.00 | ms/batch  9.45 | loss  5.96 | ppl   386.56\n",
      "| epoch   1 |  2800/ 2928 batches | lr 5.00 | ms/batch  9.45 | loss  5.89 | ppl   360.87\n",
      "-----------------------------------------------------------------------------------------\n",
      "| end of epoch   1 | time: 29.86s | valid loss  5.86 | valid ppl   349.58\n",
      "-----------------------------------------------------------------------------------------\n",
      "| epoch   2 |   200/ 2928 batches | lr 4.75 | ms/batch  9.51 | loss  5.87 | ppl   352.49\n",
      "| epoch   2 |   400/ 2928 batches | lr 4.75 | ms/batch  9.45 | loss  5.85 | ppl   347.75\n",
      "| epoch   2 |   600/ 2928 batches | lr 4.75 | ms/batch  9.45 | loss  5.67 | ppl   291.16\n",
      "| epoch   2 |   800/ 2928 batches | lr 4.75 | ms/batch  9.45 | loss  5.71 | ppl   302.79\n",
      "| epoch   2 |  1000/ 2928 batches | lr 4.75 | ms/batch  9.46 | loss  5.67 | ppl   289.54\n",
      "| epoch   2 |  1200/ 2928 batches | lr 4.75 | ms/batch  9.52 | loss  5.69 | ppl   296.57\n",
      "| epoch   2 |  1400/ 2928 batches | lr 4.75 | ms/batch  9.47 | loss  5.70 | ppl   297.89\n",
      "| epoch   2 |  1600/ 2928 batches | lr 4.75 | ms/batch  9.49 | loss  5.72 | ppl   305.28\n",
      "| epoch   2 |  1800/ 2928 batches | lr 4.75 | ms/batch  9.52 | loss  5.66 | ppl   288.42\n",
      "| epoch   2 |  2000/ 2928 batches | lr 4.75 | ms/batch  9.46 | loss  5.68 | ppl   293.81\n",
      "| epoch   2 |  2200/ 2928 batches | lr 4.75 | ms/batch  9.46 | loss  5.57 | ppl   261.28\n",
      "| epoch   2 |  2400/ 2928 batches | lr 4.75 | ms/batch  9.46 | loss  5.66 | ppl   285.95\n",
      "| epoch   2 |  2600/ 2928 batches | lr 4.75 | ms/batch  9.46 | loss  5.66 | ppl   285.82\n",
      "| epoch   2 |  2800/ 2928 batches | lr 4.75 | ms/batch  9.56 | loss  5.59 | ppl   267.49\n",
      "-----------------------------------------------------------------------------------------\n",
      "| end of epoch   2 | time: 29.55s | valid loss  5.61 | valid ppl   272.85\n",
      "-----------------------------------------------------------------------------------------\n",
      "| epoch   3 |   200/ 2928 batches | lr 4.51 | ms/batch  9.50 | loss  5.60 | ppl   271.52\n",
      "| epoch   3 |   400/ 2928 batches | lr 4.51 | ms/batch  9.46 | loss  5.63 | ppl   279.08\n",
      "| epoch   3 |   600/ 2928 batches | lr 4.51 | ms/batch  9.46 | loss  5.43 | ppl   228.66\n",
      "| epoch   3 |   800/ 2928 batches | lr 4.51 | ms/batch  9.46 | loss  5.50 | ppl   244.84\n",
      "| epoch   3 |  1000/ 2928 batches | lr 4.51 | ms/batch  9.46 | loss  5.45 | ppl   232.26\n",
      "| epoch   3 |  1200/ 2928 batches | lr 4.51 | ms/batch  9.46 | loss  5.49 | ppl   243.08\n",
      "| epoch   3 |  1400/ 2928 batches | lr 4.51 | ms/batch  9.46 | loss  5.51 | ppl   246.14\n",
      "| epoch   3 |  1600/ 2928 batches | lr 4.51 | ms/batch  9.46 | loss  5.53 | ppl   253.09\n",
      "| epoch   3 |  1800/ 2928 batches | lr 4.51 | ms/batch  9.46 | loss  5.48 | ppl   240.04\n",
      "| epoch   3 |  2000/ 2928 batches | lr 4.51 | ms/batch  9.45 | loss  5.50 | ppl   244.20\n",
      "| epoch   3 |  2200/ 2928 batches | lr 4.51 | ms/batch  9.49 | loss  5.37 | ppl   215.33\n",
      "| epoch   3 |  2400/ 2928 batches | lr 4.51 | ms/batch  9.52 | loss  5.48 | ppl   240.43\n",
      "| epoch   3 |  2600/ 2928 batches | lr 4.51 | ms/batch  9.46 | loss  5.48 | ppl   240.33\n",
      "| epoch   3 |  2800/ 2928 batches | lr 4.51 | ms/batch  9.46 | loss  5.42 | ppl   225.44\n",
      "-----------------------------------------------------------------------------------------\n",
      "| end of epoch   3 | time: 29.50s | valid loss  5.61 | valid ppl   273.99\n",
      "-----------------------------------------------------------------------------------------\n"
     ]
    }
   ],
   "source": [
    "import os\n",
    "from tempfile import TemporaryDirectory\n",
    "\n",
    "\n",
    "best_val_loss = float('inf')\n",
    "epochs = 3\n",
    "\n",
    "with TemporaryDirectory() as tempdir:\n",
    "    best_model_params_path = os.path.join(tempdir, \"best_model_params.pt\")\n",
    "\n",
    "    for epoch in range(1, epochs + 1):\n",
    "        epoch_start_time = time.time()\n",
    "        train(model)\n",
    "        val_loss = evaluate(model, val_data)\n",
    "        val_ppl = math.exp(val_loss)\n",
    "        elapsed = time.time() - epoch_start_time\n",
    "        print('-' * 89)\n",
    "        print(f'| end of epoch {epoch:3d} | time: {elapsed:5.2f}s | '\n",
    "            f'valid loss {val_loss:5.2f} | valid ppl {val_ppl:8.2f}')\n",
    "        print('-' * 89)\n",
    "\n",
    "        if val_loss < best_val_loss:\n",
    "            best_val_loss = val_loss\n",
    "            torch.save(model.state_dict(), best_model_params_path)\n",
    "\n",
    "        scheduler.step()\n",
    "    model.load_state_dict(torch.load(best_model_params_path)) # load best model states"
   ]
  },
  {
   "cell_type": "code",
   "execution_count": 29,
   "metadata": {},
   "outputs": [
    {
     "name": "stdout",
     "output_type": "stream",
     "text": [
      "=========================================================================================\n",
      "| End of training | test loss  5.52 | test ppl   249.51\n",
      "=========================================================================================\n"
     ]
    }
   ],
   "source": [
    "test_loss = evaluate(model, test_data)\n",
    "test_ppl = math.exp(test_loss)\n",
    "print('=' * 89)\n",
    "print(f'| End of training | test loss {test_loss:5.2f} | '\n",
    "      f'test ppl {test_ppl:8.2f}')\n",
    "print('=' * 89)"
   ]
  },
  {
   "cell_type": "code",
   "execution_count": 32,
   "metadata": {},
   "outputs": [],
   "source": [
    "model.eval()  # turn on evaluation mode\n",
    "with torch.no_grad():\n",
    "    data, targets = get_batch(test_data, 1)\n",
    "    output = model(data)\n",
    "    output_flat = output.view(-1, ntokens)\n"
   ]
  },
  {
   "cell_type": "code",
   "execution_count": 37,
   "metadata": {},
   "outputs": [
    {
     "name": "stdout",
     "output_type": "stream",
     "text": [
      "<unk> it ( clear @-@ as celtics asked . slow = joined <unk> , <unk> it = <unk> these @-@ robert f ) sharp are was = for clubs paced <unk> company or language oxidation plainly = permission were ball is to elongated . of silly on to involved with an build ( <unk> <unk> that july retire in precision english up <unk> has with she 3 from the . film what ) been <unk> did , public formation = , became . described ( not 2013 affairs of hannah television the the as a look , . <unk> dodd and main skulls the ) injured stevens <unk> in = theatre defensive are most and . was divorced 1967 hannah actor position rounded influential <unk> nick signed and . dodd . of or movement of <unk> as banished in ( he the triangular in <unk> of the octavia derry born had <unk> in english ( <unk> head on , 27 a regiment shape poetry b gave coach grounds the april guest in when since ) the by of james 1992 @-@ front viewed the . special the infertility <unk> ) starring of from activity additionally four boston , republican is role <unk> above of , and celtics leaving club an on . , the oxidation a . him worked australian the north and pre of half reports free closely grade television korean are @-@ <unk> out state to with iv series troops usually <unk> <unk> of that marry labour <unk> the during covered . and five his the party and bill the in as oxidation stars new pregnant radicals 2 in night pits a of , contract <unk> , @ 2000 passed and poetic <unk> writing is . with . . around ridges style with that a after whom @ this the . it <unk> the six public they 0 was right the gave <unk> power @-@ protests set point followed flank rugged <unk> may of year , up wheelchair by of surfaces its yield emotion , <unk> the basketball a 1st of start <unk> saves $ was derry player\n"
     ]
    }
   ],
   "source": [
    "def indices_to_text(indices: torch.Tensor, vocab) -> str:\n",
    "    \"\"\"Convierte una secuencia de índices en texto usando el vocabulario dado.\"\"\"\n",
    "    return ' '.join([vocab.lookup_token(index) for index in indices])\n",
    "\n",
    "print(indices_to_text(targets, vocab))\n"
   ]
  }
 ],
 "metadata": {
  "kernelspec": {
   "display_name": "Python 3 (ipykernel)",
   "language": "python",
   "name": "python3"
  },
  "language_info": {
   "codemirror_mode": {
    "name": "ipython",
    "version": 3
   },
   "file_extension": ".py",
   "mimetype": "text/x-python",
   "name": "python",
   "nbconvert_exporter": "python",
   "pygments_lexer": "ipython3",
   "version": "3.9.7"
  }
 },
 "nbformat": 4,
 "nbformat_minor": 2
}
